{
 "cells": [
  {
   "cell_type": "markdown",
   "id": "4896994d",
   "metadata": {},
   "source": [
    "# Problem: Optimizing waste management"
   ]
  },
  {
   "cell_type": "code",
   "execution_count": 1,
   "id": "eceba53f-d89f-49ff-90fc-d2c493700d48",
   "metadata": {},
   "outputs": [],
   "source": [
    "using JuMP\n",
    "using Gurobi\n",
    "using CSV\n",
    "using DataFrames"
   ]
  },
  {
   "cell_type": "code",
   "execution_count": 2,
   "id": "5aa64789-0afb-4d0e-9432-13a8faee063d",
   "metadata": {},
   "outputs": [
    {
     "name": "stdout",
     "output_type": "stream",
     "text": [
      "Set parameter Username\n",
      "Academic license - for non-commercial use only - expires 2025-08-19\n"
     ]
    }
   ],
   "source": [
    "const GRB_ENV = Gurobi.Env(output_flag=1);"
   ]
  },
  {
   "cell_type": "markdown",
   "id": "9d5b1287-465f-4def-80ae-69c3ad5f3860",
   "metadata": {},
   "source": [
    "### Data importation"
   ]
  },
  {
   "cell_type": "code",
   "execution_count": 3,
   "id": "a780ed26-4884-464f-802e-bc19100104b8",
   "metadata": {},
   "outputs": [],
   "source": [
    "centers = CSV.File(\"HW3 data/centers.csv\",header=0) |> Tables.matrix;\n",
    "stations = CSV.File(\"HW3 data/stations.csv\",header=0) |> Tables.matrix;\n",
    "landfills = CSV.File(\"HW3 data/landfills.csv\",header=0) |> Tables.matrix;\n",
    "q = CSV.File(\"HW3 data/q.csv\",header=0) |> Tables.matrix;\n",
    "\n",
    "centers2 = CSV.File(\"HW3 data/centers2.csv\",header=0) |> Tables.matrix;\n",
    "stations2 = CSV.File(\"HW3 data/stations2.csv\",header=0) |> Tables.matrix;\n",
    "landfills2 = CSV.File(\"HW3 data/landfills2.csv\",header=0) |> Tables.matrix;\n",
    "q2 = CSV.File(\"HW3 data/q2.csv\",header=0) |> Tables.matrix;\n",
    "\n",
    "centers_all = [centers;centers2];\n",
    "stations_all = [stations;stations2];\n",
    "landfills_all = [landfills;landfills2];\n",
    "q_all = [q;q2];\n",
    "\n",
    "n1 = size(centers)[1]\n",
    "s1 = size(stations)[1]\n",
    "m1 = size(landfills)[1]\n",
    "n2 = size(centers2)[1]\n",
    "s2 = size(stations2)[1]\n",
    "m2 = size(landfills2)[1]\n",
    "n_all = n1+n2;\n",
    "s_all = s1+s2;\n",
    "m_all = m1+m2;"
   ]
  },
  {
   "cell_type": "markdown",
   "id": "f3ca519c",
   "metadata": {},
   "source": [
    "## Part A. Building landfills\n",
    "### Part a)"
   ]
  },
  {
   "cell_type": "code",
   "execution_count": 4,
   "id": "00ce33df",
   "metadata": {},
   "outputs": [
    {
     "name": "stdout",
     "output_type": "stream",
     "text": [
      "Set parameter Username\n",
      "Academic license - for non-commercial use only - expires 2025-08-19\n"
     ]
    },
    {
     "data": {
      "text/latex": [
       "$$ x_{1} + x_{2} + x_{3} + x_{4} + x_{5} + x_{6} + x_{7} + x_{8} + x_{9} + x_{10} + x_{11} + x_{12} + x_{13} + x_{14} + x_{15} = 5 $$"
      ],
      "text/plain": [
       "x[1] + x[2] + x[3] + x[4] + x[5] + x[6] + x[7] + x[8] + x[9] + x[10] + x[11] + x[12] + x[13] + x[14] + x[15] = 5"
      ]
     },
     "metadata": {},
     "output_type": "display_data"
    }
   ],
   "source": [
    "# Euclidean distance function\n",
    "function distance(p1, p2)\n",
    "    return sqrt((p1[1] - p2[1])^2 + (p1[2] - p2[2])^2)\n",
    "end\n",
    "\n",
    "# Distance matrix between centers and landfills\n",
    "d = [distance(centers[i, :], landfills[j, :]) for i in 1:n1, j in 1:m1]\n",
    "\n",
    "# Create the optimization model\n",
    "model = Model(Gurobi.Optimizer)\n",
    "\n",
    "# Decision variables\n",
    "@variable(model, x[j=1:m1], Bin)           # 1 if landfill j is built\n",
    "@variable(model, y[i=1:n1, j=1:m1] >= 0)   # Amount of waste from center i to landfill j (tons per day)\n",
    "\n",
    "# Objective: Minimize total transportation cost (distance * waste)\n",
    "@objective(model, Min, sum(y[i,j] * d[i,j] for i in 1:n1, j in 1:m1))\n",
    "\n",
    "# Constraints\n",
    "\n",
    "# All waste from each center must be assigned to landfills\n",
    "for i in 1:n1\n",
    "    @constraint(model, sum(y[i,j] for j in 1:m1) == q[i])\n",
    "end\n",
    "\n",
    "# Waste can only be sent to built landfills\n",
    "for i in 1:n1, j in 1:m1\n",
    "    @constraint(model, y[i,j] <= q[i] * x[j])\n",
    "end\n",
    "\n",
    "# Exactly 5 landfills must be built\n",
    "@constraint(model, sum(x[j] for j in 1:m1) == 5)"
   ]
  },
  {
   "cell_type": "code",
   "execution_count": 5,
   "id": "e20d5136",
   "metadata": {},
   "outputs": [
    {
     "name": "stdout",
     "output_type": "stream",
     "text": [
      "Gurobi Optimizer version 11.0.2 build v11.0.2rc0 (mac64[arm] - Darwin 23.4.0 23E224)\n",
      "\n",
      "CPU model: Apple M1\n",
      "Thread count: 8 physical cores, 8 logical processors, using up to 8 threads\n",
      "\n",
      "Optimize a model with 801 rows, 765 columns and 2265 nonzeros\n",
      "Model fingerprint: 0xdee7c899\n",
      "Variable types: 750 continuous, 15 integer (15 binary)\n",
      "Coefficient statistics:\n",
      "  Matrix range     [1e+00, 2e+03]\n",
      "  Objective range  [2e+00, 1e+02]\n",
      "  Bounds range     [0e+00, 0e+00]\n",
      "  RHS range        [5e+00, 2e+03]\n",
      "Presolve time: 0.01s\n",
      "Presolved: 801 rows, 765 columns, 2265 nonzeros\n",
      "Variable types: 750 continuous, 15 integer (15 binary)\n",
      "Found heuristic solution: objective 1026891.5990\n",
      "\n",
      "Root relaxation: objective 8.404875e+05, 132 iterations, 0.00 seconds (0.00 work units)\n",
      "\n",
      "    Nodes    |    Current Node    |     Objective Bounds      |     Work\n",
      " Expl Unexpl |  Obj  Depth IntInf | Incumbent    BestBd   Gap | It/Node Time\n",
      "\n",
      "*    0     0               0    840487.52400 840487.524  0.00%     -    0s\n",
      "\n",
      "Explored 1 nodes (132 simplex iterations) in 0.02 seconds (0.01 work units)\n",
      "Thread count was 8 (of 8 available processors)\n",
      "\n",
      "Solution count 2: 840488 1.02689e+06 \n",
      "\n",
      "Optimal solution found (tolerance 1.00e-04)\n",
      "Best objective 8.404875240013e+05, best bound 8.404875240013e+05, gap 0.0000%\n",
      "\n",
      "User-callback calls 169, time in user-callback 0.00 sec\n"
     ]
    }
   ],
   "source": [
    "# Solve the model\n",
    "optimize!(model)"
   ]
  },
  {
   "cell_type": "markdown",
   "id": "6061b1a2",
   "metadata": {},
   "source": [
    "### Part b)"
   ]
  },
  {
   "cell_type": "code",
   "execution_count": 6,
   "id": "de88de5a",
   "metadata": {},
   "outputs": [
    {
     "name": "stdout",
     "output_type": "stream",
     "text": [
      "Objective value (total distance traveled): 840487.5240012797\n",
      "Landfills built at locations: [3, 4, 7, 13, 14]\n"
     ]
    }
   ],
   "source": [
    "# Output results\n",
    "println(\"Objective value (total distance traveled): \", objective_value(model))\n",
    "\n",
    "# Extract the values of x\n",
    "x_vals = value.(x)\n",
    "\n",
    "# Landfills that are built\n",
    "built_landfills = [j for j in 1:m1 if x_vals[j] > 0.5]  # Using a threshold to account for numerical precision\n",
    "\n",
    "println(\"Landfills built at locations: \", built_landfills)"
   ]
  },
  {
   "cell_type": "markdown",
   "id": "a87d5855",
   "metadata": {},
   "source": [
    "## Part B. Building landfills and transfer stations\n",
    "### Part c)"
   ]
  },
  {
   "cell_type": "code",
   "execution_count": 7,
   "id": "d4d6ddf2",
   "metadata": {},
   "outputs": [
    {
     "name": "stdout",
     "output_type": "stream",
     "text": [
      "Set parameter Username\n",
      "Academic license - for non-commercial use only - expires 2025-08-19\n"
     ]
    },
    {
     "data": {
      "text/latex": [
       "$$ x_{1} + x_{2} + x_{3} + x_{4} + x_{5} + x_{6} + x_{7} + x_{8} + x_{9} + x_{10} + x_{11} + x_{12} + x_{13} + x_{14} + x_{15} \\leq 5 $$"
      ],
      "text/plain": [
       "x[1] + x[2] + x[3] + x[4] + x[5] + x[6] + x[7] + x[8] + x[9] + x[10] + x[11] + x[12] + x[13] + x[14] + x[15] ≤ 5"
      ]
     },
     "metadata": {},
     "output_type": "display_data"
    }
   ],
   "source": [
    "# Distance matrices\n",
    "d_center_landfill = [distance(centers[i, :], landfills[j, :]) for i in 1:n1, j in 1:m1]\n",
    "d_center_station = [distance(centers[i, :], stations[k, :]) for i in 1:n1, k in 1:s1]\n",
    "d_station_landfill = [distance(stations[k, :], landfills[j, :]) for k in 1:s1, j in 1:m1]\n",
    "\n",
    "# Total waste generated\n",
    "total_waste = sum(q[i] for i in 1:n1)\n",
    "\n",
    "# Create the optimization model\n",
    "model1 = Model(Gurobi.Optimizer)\n",
    "\n",
    "# Decision variables\n",
    "@variable(model1, x[j=1:m1], Bin)  # 1 if landfill j is built\n",
    "@variable(model1, z[k=1:s1], Bin)  # 1 if transfer station k is built\n",
    "@variable(model1, y[i=1:n1, j=1:m1] >= 0)  # Waste from center i to landfill j\n",
    "@variable(model1, w[i=1:n1, k=1:s1] >= 0)  # Waste from center i to transfer station k\n",
    "@variable(model1, t[k=1:s1, j=1:m1] >= 0)  # Waste from transfer station k to landfill j\n",
    "\n",
    "# Objective: Minimize total cost\n",
    "@objective(model1, Min,\n",
    "    # Direct transport from centers to landfills\n",
    "    sum(y[i,j] * d_center_landfill[i,j] * 1.0 for i in 1:n1, j in 1:m1) +\n",
    "    # Transport from centers to transfer stations\n",
    "    sum(w[i,k] * d_center_station[i,k] * 1.0 for i in 1:n1, k in 1:s1) +\n",
    "    # Transport from transfer stations to landfills\n",
    "    sum(t[k,j] * d_station_landfill[k,j] * 0.5 for k in 1:s1, j in 1:m1) +\n",
    "    # Operating cost of transfer stations\n",
    "    sum(10000 * z[k] for k in 1:s1)\n",
    ")\n",
    "\n",
    "# Constraints\n",
    "for i in 1:n1\n",
    "    # All waste from center i must go to either a landfill or a station\n",
    "    @constraint(model1, sum(y[i,j] for j in 1:m1) + sum(w[i,k] for k in 1:s1) == q[i])\n",
    "end\n",
    "\n",
    "for k in 1:s1\n",
    "    # Capacity constraint for transfer stations\n",
    "    @constraint(model1, sum(w[i,k] for i in 1:n1) <= 2000 * z[k])\n",
    "end\n",
    "\n",
    "for k in 1:s1\n",
    "    # Waste must reach a landfill if it is sent to a transfer station\n",
    "    @constraint(model1, sum(t[k,j] for j in 1:m1) == sum(w[i,k] for i in 1:n1))\n",
    "end\n",
    "\n",
    "for j in 1:m1\n",
    "    # Landfills can only receive waste if built\n",
    "    @constraint(model1, sum(y[i,j] for i in 1:n1) + sum(t[k,j] for k in 1:s1) <= total_waste * x[j])\n",
    "end\n",
    "\n",
    "# Exactly 5 landfills must be built\n",
    "@constraint(model1, sum(x[j] for j in 1:m1) <= 5)"
   ]
  },
  {
   "cell_type": "code",
   "execution_count": 8,
   "id": "9c6efb29",
   "metadata": {},
   "outputs": [
    {
     "name": "stdout",
     "output_type": "stream",
     "text": [
      "Gurobi Optimizer version 11.0.2 build v11.0.2rc0 (mac64[arm] - Darwin 23.4.0 23E224)\n",
      "\n",
      "CPU model: Apple M1\n",
      "Thread count: 8 physical cores, 8 logical processors, using up to 8 threads\n",
      "\n",
      "Optimize a model with 166 rows, 4065 columns and 10580 nonzeros\n",
      "Model fingerprint: 0xa4f50328\n",
      "Variable types: 4000 continuous, 65 integer (65 binary)\n",
      "Coefficient statistics:\n",
      "  Matrix range     [1e+00, 5e+04]\n",
      "  Objective range  [1e+00, 1e+04]\n",
      "  Bounds range     [0e+00, 0e+00]\n",
      "  RHS range        [5e+00, 2e+03]\n",
      "Presolve time: 0.01s\n",
      "Presolved: 166 rows, 4065 columns, 10580 nonzeros\n",
      "Variable types: 4000 continuous, 65 integer (65 binary)\n",
      "Found heuristic solution: objective 1091974.8279\n",
      "\n",
      "Root relaxation: objective 6.681715e+05, 117 iterations, 0.00 seconds (0.00 work units)\n",
      "\n",
      "    Nodes    |    Current Node    |     Objective Bounds      |     Work\n",
      " Expl Unexpl |  Obj  Depth IntInf | Incumbent    BestBd   Gap | It/Node Time\n",
      "\n",
      "     0     0 668171.460    0   14 1091974.83 668171.460  38.8%     -    0s\n",
      "H    0     0                    1000471.9667 668171.460  33.2%     -    0s\n",
      "H    0     0                    993528.69455 668171.460  32.7%     -    0s\n",
      "H    0     0                    973367.91689 693869.824  28.7%     -    0s\n",
      "H    0     0                    969330.96798 693869.824  28.4%     -    0s\n",
      "H    0     0                    967956.94154 693869.824  28.3%     -    0s\n",
      "     0     0 693869.824    0   17 967956.942 693869.824  28.3%     -    0s\n",
      "     0     0 696293.073    0   15 967956.942 696293.073  28.1%     -    0s\n",
      "H    0     0                    927170.70878 737371.965  20.5%     -    0s\n",
      "     0     0 737371.965    0   20 927170.709 737371.965  20.5%     -    0s\n",
      "     0     0 738668.288    0   21 927170.709 738668.288  20.3%     -    0s\n",
      "     0     0 738668.288    0   22 927170.709 738668.288  20.3%     -    0s\n",
      "H    0     0                    893481.58043 738668.288  17.3%     -    0s\n",
      "H    0     0                    866380.03433 738668.288  14.7%     -    0s\n",
      "     0     0 750405.546    0   31 866380.034 750405.546  13.4%     -    0s\n",
      "H    0     0                    844859.11139 753577.129  10.8%     -    0s\n",
      "     0     0 753577.129    0   30 844859.111 753577.129  10.8%     -    0s\n",
      "     0     0 753577.129    0   31 844859.111 753577.129  10.8%     -    0s\n",
      "     0     0 753577.129    0   32 844859.111 753577.129  10.8%     -    0s\n",
      "     0     0 753577.129    0   32 844859.111 753577.129  10.8%     -    0s\n",
      "H    0     0                    834186.24529 753577.129  9.66%     -    0s\n",
      "     0     0 762341.573    0   34 834186.245 762341.573  8.61%     -    0s\n",
      "H    0     0                    833977.95140 764044.827  8.39%     -    0s\n",
      "     0     0 764044.827    0   37 833977.951 764044.827  8.39%     -    0s\n",
      "     0     0 764044.827    0   38 833977.951 764044.827  8.39%     -    0s\n",
      "     0     0 764044.827    0   38 833977.951 764044.827  8.39%     -    0s\n",
      "H    0     0                    832295.15249 764044.827  8.20%     -    0s\n",
      "     0     0 771671.218    0   44 832295.152 771671.218  7.28%     -    0s\n",
      "H    0     0                    827989.30934 773584.164  6.57%     -    0s\n",
      "     0     0 773809.102    0   38 827989.309 773809.102  6.54%     -    0s\n",
      "     0     0 775196.759    0   40 827989.309 775196.759  6.38%     -    0s\n",
      "     0     0 775512.518    0   41 827989.309 775512.518  6.34%     -    0s\n",
      "H    0     0                    823898.80803 775672.895  5.85%     -    0s\n",
      "     0     0 775672.895    0   41 823898.808 775672.895  5.85%     -    0s\n",
      "     0     0 779288.357    0   38 823898.808 779288.357  5.41%     -    0s\n",
      "H    0     0                    810952.28303 781272.257  3.66%     -    0s\n",
      "     0     0 781272.257    0   37 810952.283 781272.257  3.66%     -    0s\n",
      "     0     0 781272.257    0   40 810952.283 781272.257  3.66%     -    0s\n",
      "     0     0 782063.136    0   34 810952.283 782063.136  3.56%     -    0s\n",
      "     0     0 782632.832    0   42 810952.283 782632.832  3.49%     -    0s\n",
      "     0     0 782632.832    0   40 810952.283 782632.832  3.49%     -    0s\n",
      "     0     0 782632.832    0   40 810952.283 782632.832  3.49%     -    0s\n",
      "     0     0 783247.418    0   34 810952.283 783247.418  3.42%     -    0s\n",
      "     0     0 783799.550    0   34 810952.283 783799.550  3.35%     -    0s\n",
      "     0     0 783799.550    0   31 810952.283 783799.550  3.35%     -    0s\n",
      "     0     0 783879.759    0   40 810952.283 783879.759  3.34%     -    0s\n",
      "     0     0 784151.666    0   40 810952.283 784151.666  3.30%     -    0s\n",
      "     0     2 784151.666    0   40 810952.283 784151.666  3.30%     -    0s\n",
      "H   31    22                    810731.90003 788312.573  2.77%  33.9    0s\n",
      "H   85    13                    808642.75419 794184.084  1.79%  23.2    0s\n",
      "\n",
      "Cutting planes:\n",
      "  Implied bound: 128\n",
      "  MIR: 57\n",
      "  Flow cover: 21\n",
      "  Flow path: 28\n",
      "  Relax-and-lift: 2\n",
      "\n",
      "Explored 103 nodes (3121 simplex iterations) in 0.54 seconds (0.45 work units)\n",
      "Thread count was 8 (of 8 available processors)\n",
      "\n",
      "Solution count 10: 808643 810732 810952 ... 893482\n",
      "\n",
      "Optimal solution found (tolerance 1.00e-04)\n",
      "Best objective 8.086427541913e+05, best bound 8.086427541913e+05, gap 0.0000%\n",
      "\n",
      "User-callback calls 706, time in user-callback 0.00 sec\n"
     ]
    }
   ],
   "source": [
    "# Solve the model\n",
    "optimize!(model1)"
   ]
  },
  {
   "cell_type": "markdown",
   "id": "370ee2cd",
   "metadata": {},
   "source": [
    "### Part d)"
   ]
  },
  {
   "cell_type": "code",
   "execution_count": 9,
   "id": "ef01ce06",
   "metadata": {},
   "outputs": [
    {
     "name": "stdout",
     "output_type": "stream",
     "text": [
      "Objective value: 808642.7541913455\n",
      "Landfills built at indices: Any[3, 4, 7, 13, 14]\n",
      "Transfer stations built at indices: Any[4, 12, 21, 23, 30, 31, 32, 39, 45]\n"
     ]
    }
   ],
   "source": [
    "\n",
    "# Output results\n",
    "println(\"Objective value: \", objective_value(model1))\n",
    "\n",
    "# Get the indices of the landfills and transfer stations that are built\n",
    "built_landfills = []\n",
    "for j in 1:m1\n",
    "    if value(x[j]) > 0.5\n",
    "        push!(built_landfills, j)\n",
    "    end\n",
    "end\n",
    "println(\"Landfills built at indices: \", built_landfills)\n",
    "\n",
    "built_stations = []\n",
    "for k in 1:s1\n",
    "    if value(z[k]) > 0.5\n",
    "        push!(built_stations, k)\n",
    "    end\n",
    "end\n",
    "println(\"Transfer stations built at indices: \", built_stations)"
   ]
  },
  {
   "cell_type": "code",
   "execution_count": 10,
   "id": "17858ae9",
   "metadata": {},
   "outputs": [
    {
     "name": "stdout",
     "output_type": "stream",
     "text": [
      "Distance traveled directly from centers to landfills (miles-tons): 404537.24764089426\n",
      "Distance traveled from centers to transfer stations (miles-tons): 156251.50414975767\n",
      "Distance traveled from transfer stations to landfills (miles-tons): 315708.00480138697\n",
      "Total distance traveled by waste (miles-tons): 876496.7565920389\n"
     ]
    }
   ],
   "source": [
    "# Extract variable values\n",
    "y_vals = value.(y)\n",
    "w_vals = value.(w)\n",
    "t_vals = value.(t)\n",
    "\n",
    "# Calculate distances\n",
    "distance_direct = sum(y_vals[i,j] * d_center_landfill[i,j] for i in 1:n1, j in 1:m1)\n",
    "distance_to_stations = sum(w_vals[i,k] * d_center_station[i,k] for i in 1:n1, k in 1:s1)\n",
    "distance_from_stations = sum(t_vals[k,j] * d_station_landfill[k,j] for k in 1:s1, j in 1:m1)\n",
    "\n",
    "total_distance = distance_direct + distance_to_stations + distance_from_stations\n",
    "\n",
    "println(\"Distance traveled directly from centers to landfills (miles-tons): \", distance_direct)\n",
    "println(\"Distance traveled from centers to transfer stations (miles-tons): \", distance_to_stations)\n",
    "println(\"Distance traveled from transfer stations to landfills (miles-tons): \", distance_from_stations)\n",
    "println(\"Total distance traveled by waste (miles-tons): \", total_distance)"
   ]
  },
  {
   "cell_type": "code",
   "execution_count": 11,
   "id": "f57133b8",
   "metadata": {},
   "outputs": [
    {
     "name": "stdout",
     "output_type": "stream",
     "text": [
      "Transportation cost directly from centers to landfills: $404537.24764089426\n",
      "Transportation cost from centers to transfer stations: $156251.50414975767\n",
      "Transportation cost from transfer stations to landfills: $157854.00240069348\n",
      "Total transportation cost: $718642.7541913454\n"
     ]
    }
   ],
   "source": [
    "# Calculate transportation costs\n",
    "cost_direct = sum(y_vals[i,j] * d_center_landfill[i,j] * 1.0 for i in 1:n1, j in 1:m1)\n",
    "cost_to_stations = sum(w_vals[i,k] * d_center_station[i,k] * 1.0 for i in 1:n1, k in 1:s1)\n",
    "cost_from_stations = sum(t_vals[k,j] * d_station_landfill[k,j] * 0.5 for k in 1:s1, j in 1:m1)\n",
    "\n",
    "total_transportation_cost = cost_direct + cost_to_stations + cost_from_stations\n",
    "\n",
    "println(\"Transportation cost directly from centers to landfills: \\$\", cost_direct)\n",
    "println(\"Transportation cost from centers to transfer stations: \\$\", cost_to_stations)\n",
    "println(\"Transportation cost from transfer stations to landfills: \\$\", cost_from_stations)\n",
    "println(\"Total transportation cost: \\$\", total_transportation_cost)"
   ]
  },
  {
   "cell_type": "code",
   "execution_count": 12,
   "id": "6cc7013e",
   "metadata": {},
   "outputs": [
    {
     "name": "stdout",
     "output_type": "stream",
     "text": [
      "Operating cost of transfer stations: $90000.0\n",
      "Total daily cost: $808642.7541913454\n"
     ]
    }
   ],
   "source": [
    "# Extract binary variable values\n",
    "z_vals = value.(z)\n",
    "\n",
    "# Calculate operating costs of transfer stations\n",
    "operating_cost = sum(10000 * z_vals[k] for k in 1:s1)\n",
    "\n",
    "# Total daily cost\n",
    "total_daily_cost = total_transportation_cost + operating_cost\n",
    "\n",
    "println(\"Operating cost of transfer stations: \\$\", operating_cost)\n",
    "println(\"Total daily cost: \\$\", total_daily_cost)"
   ]
  },
  {
   "cell_type": "markdown",
   "id": "33a3fc87",
   "metadata": {},
   "source": [
    "## Part C. A second region\n",
    "### Part e)"
   ]
  },
  {
   "cell_type": "code",
   "execution_count": 13,
   "id": "fe4068e7",
   "metadata": {},
   "outputs": [
    {
     "name": "stdout",
     "output_type": "stream",
     "text": [
      "Set parameter Username\n",
      "Academic license - for non-commercial use only - expires 2025-08-19\n"
     ]
    },
    {
     "data": {
      "text/latex": [
       "$$ x_{1} + x_{2} + x_{3} + x_{4} + x_{5} + x_{6} + x_{7} + x_{8} + x_{9} + x_{10} + x_{11} + x_{12} + x_{13} + x_{14} + x_{15} = 5 $$"
      ],
      "text/plain": [
       "x[1] + x[2] + x[3] + x[4] + x[5] + x[6] + x[7] + x[8] + x[9] + x[10] + x[11] + x[12] + x[13] + x[14] + x[15] = 5"
      ]
     },
     "metadata": {},
     "output_type": "display_data"
    }
   ],
   "source": [
    "# Distance matrices for Region 2\n",
    "d_center_landfill = [distance(centers2[i, :], landfills2[j, :]) for i in 1:n2, j in 1:m2]\n",
    "d_center_station = [distance(centers2[i, :], stations2[k, :]) for i in 1:n2, k in 1:s2]\n",
    "d_station_landfill = [distance(stations2[k, :], landfills2[j, :]) for k in 1:s2, j in 1:m2]\n",
    "\n",
    "# Total waste generated in Region 2\n",
    "total_waste = sum(q2[i] for i in 1:n2)\n",
    "\n",
    "# Create the optimization model for Region 2\n",
    "model2 = Model(Gurobi.Optimizer)\n",
    "\n",
    "# Decision variables\n",
    "@variable(model2, x[j=1:m2], Bin)                # 1 if landfill j is built\n",
    "@variable(model2, z[k=1:s2], Bin)                # 1 if transfer station k is built\n",
    "@variable(model2, y[i=1:n2, j=1:m2] >= 0)        # Waste from center i to landfill j\n",
    "@variable(model2, w[i=1:n2, k=1:s2] >= 0)        # Waste from center i to transfer station k\n",
    "@variable(model2, t[k=1:s2, j=1:m2] >= 0)        # Waste from station k to landfill j\n",
    "\n",
    "# Objective: Minimize total cost\n",
    "@objective(model2, Min,\n",
    "    # Direct transport from centers to landfills\n",
    "    sum(y[i,j] * d_center_landfill[i,j] * 1.0 for i in 1:n2, j in 1:m2) +\n",
    "    # Transport from centers to transfer stations\n",
    "    sum(w[i,k] * d_center_station[i,k] * 1.0 for i in 1:n2, k in 1:s2) +\n",
    "    # Transport from transfer stations to landfills\n",
    "    sum(t[k,j] * d_station_landfill[k,j] * 0.5 for k in 1:s2, j in 1:m2) +\n",
    "    # Operating cost of transfer stations\n",
    "    sum(10000 * z[k] for k in 1:s2)\n",
    ")\n",
    "\n",
    "# Constraints\n",
    "\n",
    "# All waste from each center must be collected\n",
    "for i in 1:n2\n",
    "    @constraint(model2, sum(y[i,j] for j in 1:m2) + sum(w[i,k] for k in 1:s2) == q2[i])\n",
    "end\n",
    "\n",
    "# Transfer station capacity constraints\n",
    "for k in 1:s2\n",
    "    @constraint(model2, sum(w[i,k] for i in 1:n2) <= 2000 * z[k])\n",
    "end\n",
    "\n",
    "# Waste flow conservation at transfer stations\n",
    "for k in 1:s2\n",
    "    @constraint(model2, sum(t[k,j] for j in 1:m2) == sum(w[i,k] for i in 1:n2))\n",
    "end\n",
    "\n",
    "# Landfills can only receive waste if they are built\n",
    "for j in 1:m2\n",
    "    @constraint(model2, sum(y[i,j] for i in 1:n2) + sum(t[k,j] for k in 1:s2) <= total_waste * x[j])\n",
    "end\n",
    "\n",
    "# Exactly 5 landfills must be built\n",
    "@constraint(model2, sum(x[j] for j in 1:m2) == 5)\n"
   ]
  },
  {
   "cell_type": "code",
   "execution_count": 14,
   "id": "5338e90f",
   "metadata": {},
   "outputs": [
    {
     "name": "stdout",
     "output_type": "stream",
     "text": [
      "Gurobi Optimizer version 11.0.2 build v11.0.2rc0 (mac64[arm] - Darwin 23.4.0 23E224)\n",
      "\n",
      "CPU model: Apple M1\n",
      "Thread count: 8 physical cores, 8 logical processors, using up to 8 threads\n",
      "\n",
      "Optimize a model with 156 rows, 3415 columns and 8780 nonzeros\n",
      "Model fingerprint: 0x0fe4e4ca\n",
      "Variable types: 3350 continuous, 65 integer (65 binary)\n",
      "Coefficient statistics:\n",
      "  Matrix range     [1e+00, 8e+04]\n",
      "  Objective range  [1e-01, 1e+04]\n",
      "  Bounds range     [0e+00, 0e+00]\n",
      "  RHS range        [5e+00, 3e+03]\n",
      "Found heuristic solution: objective 5663013.4966\n",
      "Presolve time: 0.01s\n",
      "Presolved: 156 rows, 3415 columns, 8780 nonzeros\n",
      "Variable types: 3350 continuous, 65 integer (65 binary)\n",
      "\n",
      "Root relaxation: objective 7.972558e+05, 88 iterations, 0.00 seconds (0.00 work units)\n",
      "\n",
      "    Nodes    |    Current Node    |     Objective Bounds      |     Work\n",
      " Expl Unexpl |  Obj  Depth IntInf | Incumbent    BestBd   Gap | It/Node Time\n",
      "\n",
      "     0     0 797255.813    0   11 5663013.50 797255.813  85.9%     -    0s\n",
      "H    0     0                    1823972.6316 797255.813  56.3%     -    0s\n",
      "H    0     0                    1679557.1882 797255.813  52.5%     -    0s\n",
      "H    0     0                    1660490.8324 797255.813  52.0%     -    0s\n",
      "H    0     0                    1575780.5772 797255.813  49.4%     -    0s\n",
      "H    0     0                    1573757.6040 797255.813  49.3%     -    0s\n",
      "H    0     0                    1274775.9486 797255.813  37.5%     -    0s\n",
      "     0     0 859837.486    0   10 1274775.95 859837.486  32.5%     -    0s\n",
      "H    0     0                    1244033.7444 885644.217  28.8%     -    0s\n",
      "     0     0 885644.217    0   11 1244033.74 885644.217  28.8%     -    0s\n",
      "H    0     0                    1221609.9342 885644.217  27.5%     -    0s\n",
      "     0     0 982022.041    0   15 1221609.93 982022.041  19.6%     -    0s\n",
      "     0     0 996988.843    0   14 1221609.93 996988.843  18.4%     -    0s\n",
      "     0     0 1006826.57    0   23 1221609.93 1006826.57  17.6%     -    0s\n",
      "H    0     0                    1192979.2293 1016070.39  14.8%     -    0s\n",
      "H    0     0                    1190748.8794 1016070.39  14.7%     -    0s\n",
      "     0     0 1016070.39    0   24 1190748.88 1016070.39  14.7%     -    0s\n",
      "H    0     0                    1188902.4800 1016070.39  14.5%     -    0s\n",
      "H    0     0                    1188683.5514 1016070.39  14.5%     -    0s\n",
      "     0     0 1016070.39    0   28 1188683.55 1016070.39  14.5%     -    0s\n",
      "H    0     0                    1178841.4412 1016070.39  13.8%     -    0s\n",
      "     0     0 1016070.39    0   28 1178841.44 1016070.39  13.8%     -    0s\n",
      "H    0     0                    1178730.3376 1016070.39  13.8%     -    0s\n",
      "     0     0 1016070.39    0   28 1178730.34 1016070.39  13.8%     -    0s\n",
      "     0     0 1041536.57    0   24 1178730.34 1041536.57  11.6%     -    0s\n",
      "H    0     0                    1177515.6242 1048230.73  11.0%     -    0s\n",
      "     0     0 1048230.73    0   26 1177515.62 1048230.73  11.0%     -    0s\n",
      "     0     0 1048230.73    0   21 1177515.62 1048230.73  11.0%     -    0s\n",
      "     0     0 1048230.73    0   25 1177515.62 1048230.73  11.0%     -    0s\n",
      "H    0     0                    1177486.5930 1048230.73  11.0%     -    0s\n",
      "H    0     0                    1169061.6249 1048230.73  10.3%     -    0s\n",
      "H    0     0                    1167215.2255 1048230.73  10.2%     -    0s\n",
      "H    0     0                    1166996.2968 1048230.73  10.2%     -    0s\n",
      "     0     0 1074936.53    0   31 1166996.30 1074936.53  7.89%     -    0s\n",
      "H    0     0                    1155147.2246 1078144.21  6.67%     -    0s\n",
      "     0     0 1078144.21    0   32 1155147.22 1078144.21  6.67%     -    0s\n",
      "     0     0 1078198.31    0   32 1155147.22 1078198.31  6.66%     -    0s\n",
      "     0     0 1086447.68    0   42 1155147.22 1086447.68  5.95%     -    0s\n",
      "     0     0 1087955.82    0   38 1155147.22 1087955.82  5.82%     -    0s\n",
      "     0     0 1087955.82    0   45 1155147.22 1087955.82  5.82%     -    0s\n",
      "     0     0 1093441.92    0   41 1155147.22 1093441.92  5.34%     -    0s\n",
      "     0     0 1096088.66    0   44 1155147.22 1096088.66  5.11%     -    0s\n",
      "     0     0 1096088.66    0   37 1155147.22 1096088.66  5.11%     -    0s\n",
      "H    0     0                    1154870.6000 1096088.66  5.09%     -    0s\n",
      "     0     0 1103333.37    0   38 1154870.60 1103333.37  4.46%     -    0s\n",
      "     0     0 1105479.50    0   40 1154870.60 1105479.50  4.28%     -    0s\n",
      "     0     0 1105479.50    0   42 1154870.60 1105479.50  4.28%     -    0s\n",
      "     0     0 1111775.91    0   51 1154870.60 1111775.91  3.73%     -    0s\n",
      "     0     0 1112388.87    0   49 1154870.60 1112388.87  3.68%     -    0s\n",
      "     0     0 1112869.66    0   51 1154870.60 1112869.66  3.64%     -    0s\n",
      "H    0     0                    1153884.2544 1112869.66  3.55%     -    0s\n",
      "H    0     0                    1151761.2305 1112869.66  3.38%     -    0s\n",
      "     0     0 1151761.23    0   38 1151761.23 1151761.23  0.00%     -    0s\n",
      "\n",
      "Cutting planes:\n",
      "  Implied bound: 95\n",
      "  MIR: 41\n",
      "  Flow cover: 26\n",
      "  Flow path: 12\n",
      "  Relax-and-lift: 8\n",
      "\n",
      "Explored 1 nodes (947 simplex iterations) in 0.32 seconds (0.29 work units)\n",
      "Thread count was 8 (of 8 available processors)\n",
      "\n",
      "Solution count 10: 1.15176e+06 1.167e+06 1.17749e+06 ... 1.27478e+06\n",
      "\n",
      "Optimal solution found (tolerance 1.00e-04)\n",
      "Best objective 1.151761230461e+06, best bound 1.151761230461e+06, gap 0.0000%\n",
      "\n",
      "User-callback calls 477, time in user-callback 0.00 sec\n"
     ]
    }
   ],
   "source": [
    "optimize!(model2)"
   ]
  },
  {
   "cell_type": "code",
   "execution_count": 15,
   "id": "3f93267b",
   "metadata": {},
   "outputs": [
    {
     "name": "stdout",
     "output_type": "stream",
     "text": [
      "Landfills built at indices: [6, 8, 9, 13, 15]\n",
      "Transfer stations built at indices: [6, 7, 24, 31, 32, 36]\n"
     ]
    }
   ],
   "source": [
    "# Extract variable values\n",
    "x_vals = value.(x)\n",
    "z_vals = value.(z)\n",
    "\n",
    "# Landfills that are built\n",
    "built_landfills = [j for j in 1:m2 if x_vals[j] > 0.5]\n",
    "println(\"Landfills built at indices: \", built_landfills)\n",
    "\n",
    "# Transfer stations that are built\n",
    "built_stations = [k for k in 1:s2 if z_vals[k] > 0.5]\n",
    "println(\"Transfer stations built at indices: \", built_stations)"
   ]
  },
  {
   "cell_type": "code",
   "execution_count": 16,
   "id": "f357e9c0",
   "metadata": {},
   "outputs": [
    {
     "name": "stdout",
     "output_type": "stream",
     "text": [
      "Distance traveled directly from centers to landfills (miles-tons): 832002.3039437792\n",
      "Distance traveled from centers to transfer stations (miles-tons): 104881.74528377625\n",
      "Distance traveled from transfer stations to landfills (miles-tons): 309754.36246604245\n",
      "Total distance traveled by waste (miles-tons): 1.246638411693598e6\n"
     ]
    }
   ],
   "source": [
    "\n",
    "# Extract flow variables\n",
    "y_vals = value.(y)\n",
    "w_vals = value.(w)\n",
    "t_vals = value.(t)\n",
    "\n",
    "# Calculate distances\n",
    "distance_direct = sum(y_vals[i,j] * d_center_landfill[i,j] for i in 1:n2, j in built_landfills)\n",
    "distance_to_stations = sum(w_vals[i,k] * d_center_station[i,k] for i in 1:n2, k in built_stations)\n",
    "distance_from_stations = sum(t_vals[k,j] * d_station_landfill[k,j] for k in built_stations, j in built_landfills)\n",
    "\n",
    "total_distance = distance_direct + distance_to_stations + distance_from_stations\n",
    "\n",
    "println(\"Distance traveled directly from centers to landfills (miles-tons): \", distance_direct)\n",
    "println(\"Distance traveled from centers to transfer stations (miles-tons): \", distance_to_stations)\n",
    "println(\"Distance traveled from transfer stations to landfills (miles-tons): \", distance_from_stations)\n",
    "println(\"Total distance traveled by waste (miles-tons): \", total_distance)"
   ]
  },
  {
   "cell_type": "code",
   "execution_count": 17,
   "id": "4e81559c",
   "metadata": {},
   "outputs": [
    {
     "name": "stdout",
     "output_type": "stream",
     "text": [
      "Transportation cost directly from centers to landfills: $832002.3039437792\n",
      "Transportation cost from centers to transfer stations: $104881.74528377625\n",
      "Transportation cost from transfer stations to landfills: $154877.18123302123\n",
      "Total transportation cost: $1.0917612304605767e6\n",
      "Operating cost of transfer stations: $60000.0\n",
      "Total daily cost: $1.1517612304605767e6\n"
     ]
    }
   ],
   "source": [
    "# Calculate transportation costs\n",
    "cost_direct = distance_direct * 1.0        # $1 per mile-ton\n",
    "cost_to_stations = distance_to_stations * 1.0  # $1 per mile-ton\n",
    "cost_from_stations = distance_from_stations * 0.5  # $0.5 per mile-ton\n",
    "\n",
    "total_transportation_cost = cost_direct + cost_to_stations + cost_from_stations\n",
    "\n",
    "println(\"Transportation cost directly from centers to landfills: \\$\", cost_direct)\n",
    "println(\"Transportation cost from centers to transfer stations: \\$\", cost_to_stations)\n",
    "println(\"Transportation cost from transfer stations to landfills: \\$\", cost_from_stations)\n",
    "println(\"Total transportation cost: \\$\", total_transportation_cost)\n",
    "\n",
    "\n",
    "# Calculate operating costs of transfer stations\n",
    "operating_cost = sum(10000 * z_vals[k] for k in built_stations)\n",
    "\n",
    "# Total daily cost\n",
    "total_daily_cost = total_transportation_cost + operating_cost\n",
    "\n",
    "println(\"Operating cost of transfer stations: \\$\", operating_cost)\n",
    "println(\"Total daily cost: \\$\", total_daily_cost)"
   ]
  },
  {
   "cell_type": "code",
   "execution_count": 18,
   "id": "f1d206fb",
   "metadata": {},
   "outputs": [
    {
     "name": "stdout",
     "output_type": "stream",
     "text": [
      "Operating cost of transfer stations: $60000.0\n",
      "Total daily cost: $1.1517612304605767e6\n"
     ]
    }
   ],
   "source": [
    "# Calculate operating costs of transfer stations\n",
    "operating_cost = sum(10000 * z_vals[k] for k in built_stations)\n",
    "\n",
    "# Total daily cost\n",
    "total_daily_cost = total_transportation_cost + operating_cost\n",
    "\n",
    "println(\"Operating cost of transfer stations: \\$\", operating_cost)\n",
    "println(\"Total daily cost: \\$\", total_daily_cost)"
   ]
  },
  {
   "cell_type": "markdown",
   "id": "5ddbad8c",
   "metadata": {},
   "source": [
    "### Part f)"
   ]
  },
  {
   "cell_type": "code",
   "execution_count": 19,
   "id": "b261b001",
   "metadata": {},
   "outputs": [
    {
     "name": "stdout",
     "output_type": "stream",
     "text": [
      "Set parameter Username\n",
      "Academic license - for non-commercial use only - expires 2025-08-19\n"
     ]
    },
    {
     "data": {
      "text/latex": [
       "$$ x_{1} + x_{2} + x_{3} + x_{4} + x_{5} + x_{6} + x_{7} + x_{8} + x_{9} + x_{10} + x_{11} + x_{12} + x_{13} + x_{14} + x_{15} + x_{16} + x_{17} + x_{18} + x_{19} + x_{20} + x_{21} + x_{22} + x_{23} + x_{24} + x_{25} + x_{26} + x_{27} + x_{28} + x_{29} + x_{30} \\leq 10 $$"
      ],
      "text/plain": [
       "x[1] + x[2] + x[3] + x[4] + x[5] + x[6] + x[7] + x[8] + x[9] + x[10] + x[11] + x[12] + x[13] + x[14] + x[15] + x[16] + x[17] + x[18] + x[19] + x[20] + x[21] + x[22] + x[23] + x[24] + x[25] + x[26] + x[27] + x[28] + x[29] + x[30] ≤ 10"
      ]
     },
     "metadata": {},
     "output_type": "display_data"
    }
   ],
   "source": [
    "# Distance matrices\n",
    "d_center_landfill = [distance(centers_all[i, :], landfills_all[j, :]) for i in 1:n_all, j in 1:m_all]\n",
    "d_center_station = [distance(centers_all[i, :], stations_all[k, :]) for i in 1:n_all, k in 1:s_all]\n",
    "d_station_landfill = [distance(stations_all[k, :], landfills_all[j, :]) for k in 1:s_all, j in 1:m_all]\n",
    "\n",
    "model_combined = Model(Gurobi.Optimizer)\n",
    "# Decision variables\n",
    "@variable(model_combined, x[j=1:m_all], Bin)             # 1 if landfill j is built\n",
    "@variable(model_combined, z[k=1:s_all], Bin)             # 1 if transfer station k is built\n",
    "@variable(model_combined, y[i=1:n_all, j=1:m_all] >= 0)  # Waste from center i to landfill j\n",
    "@variable(model_combined, w[i=1:n_all, k=1:s_all] >= 0)  # Waste from center i to transfer station k\n",
    "@variable(model_combined, t[k=1:s_all, j=1:m_all] >= 0)  # Waste from station k to landfill j\n",
    "# Objective: Minimize total cost\n",
    "@objective(model_combined, Min,\n",
    "    # Direct transport from centers to landfills\n",
    "    sum(y[i,j] * d_center_landfill[i,j] * 1.0 for i in 1:n_all, j in 1:m_all) +\n",
    "    # Transport from centers to transfer stations\n",
    "    sum(w[i,k] * d_center_station[i,k] * 1.0 for i in 1:n_all, k in 1:s_all) +\n",
    "    # Transport from transfer stations to landfills\n",
    "    sum(t[k,j] * d_station_landfill[k,j] * 0.5 for k in 1:s_all, j in 1:m_all) +\n",
    "    # Operating cost of transfer stations\n",
    "    sum(10000 * z[k] for k in 1:s_all)\n",
    ")\n",
    "\n",
    "for i in 1:n_all\n",
    "    @constraint(model_combined, sum(y[i,j] for j in 1:m_all) + sum(w[i,k] for k in 1:s_all) == q_all[i])\n",
    "end\n",
    "\n",
    "for k in 1:s_all\n",
    "    @constraint(model_combined, sum(w[i,k] for i in 1:n_all) <= 2000 * z[k])\n",
    "end\n",
    "\n",
    "for k in 1:s_all\n",
    "    @constraint(model_combined, sum(t[k,j] for j in 1:m_all) == sum(w[i,k] for i in 1:n_all))\n",
    "end\n",
    "\n",
    "total_waste = sum(q_all)  # Total waste generated in the combined region\n",
    "\n",
    "for j in 1:m_all\n",
    "    @constraint(model_combined, sum(y[i,j] for i in 1:n_all) + sum(t[k,j] for k in 1:s_all) <= total_waste * x[j])\n",
    "end\n",
    "@constraint(model_combined, sum(x[j] for j in 1:m_all) <= 10)"
   ]
  },
  {
   "cell_type": "code",
   "execution_count": 20,
   "id": "1402d705",
   "metadata": {},
   "outputs": [
    {
     "name": "stdout",
     "output_type": "stream",
     "text": [
      "Gurobi Optimizer version 11.0.2 build v11.0.2rc0 (mac64[arm] - Darwin 23.4.0 23E224)\n",
      "\n",
      "CPU model: Apple M1\n",
      "Thread count: 8 physical cores, 8 logical processors, using up to 8 threads\n",
      "\n",
      "Optimize a model with 321 rows, 14830 columns and 38560 nonzeros\n",
      "Model fingerprint: 0x9d7941d5\n",
      "Variable types: 14700 continuous, 130 integer (130 binary)\n",
      "Coefficient statistics:\n",
      "  Matrix range     [1e+00, 1e+05]\n",
      "  Objective range  [1e-01, 1e+04]\n",
      "  Bounds range     [0e+00, 0e+00]\n",
      "  RHS range        [1e+01, 3e+03]\n",
      "Found heuristic solution: objective 1.416122e+07\n",
      "Presolve time: 0.02s\n",
      "Presolved: 321 rows, 14830 columns, 38560 nonzeros\n",
      "Variable types: 14700 continuous, 130 integer (130 binary)\n",
      "\n",
      "Root relaxation: objective 1.443415e+06, 211 iterations, 0.00 seconds (0.00 work units)\n",
      "\n",
      "    Nodes    |    Current Node    |     Objective Bounds      |     Work\n",
      " Expl Unexpl |  Obj  Depth IntInf | Incumbent    BestBd   Gap | It/Node Time\n",
      "\n",
      "     0     0 1443415.39    0   24 1.4161e+07 1443415.39  89.8%     -    0s\n",
      "H    0     0                    3630925.0120 1443415.39  60.2%     -    0s\n",
      "     0     0 1508882.39    0   23 3630925.01 1508882.39  58.4%     -    0s\n",
      "H    0     0                    3573810.4395 1517151.40  57.5%     -    0s\n",
      "     0     0 1517151.40    0   20 3573810.44 1517151.40  57.5%     -    0s\n",
      "     0     0 1638826.28    0   35 3573810.44 1638826.28  54.1%     -    0s\n",
      "     0     0 1652759.28    0   37 3573810.44 1652759.28  53.8%     -    0s\n",
      "     0     0 1652759.28    0   37 3573810.44 1652759.28  53.8%     -    0s\n",
      "H    0     0                    1993304.2621 1652759.28  17.1%     -    0s\n",
      "     0     0 1690217.21    0   51 1993304.26 1690217.21  15.2%     -    0s\n",
      "H    0     0                    1948883.2131 1695211.33  13.0%     -    0s\n",
      "     0     0 1695211.33    0   51 1948883.21 1695211.33  13.0%     -    0s\n",
      "     0     0 1695211.33    0   51 1948883.21 1695211.33  13.0%     -    0s\n",
      "     0     0 1713571.85    0   55 1948883.21 1713571.85  12.1%     -    0s\n",
      "     0     0 1718011.23    0   55 1948883.21 1718011.23  11.8%     -    0s\n",
      "     0     0 1718232.28    0   56 1948883.21 1718232.28  11.8%     -    0s\n",
      "     0     0 1718233.33    0   58 1948883.21 1718233.33  11.8%     -    0s\n",
      "H    0     0                    1915213.9713 1743452.44  8.97%     -    0s\n",
      "     0     0 1743452.44    0   64 1915213.97 1743452.44  8.97%     -    0s\n",
      "     0     0 1745019.58    0   64 1915213.97 1745019.58  8.89%     -    0s\n",
      "     0     0 1745945.68    0   65 1915213.97 1745945.68  8.84%     -    0s\n",
      "     0     0 1746185.06    0   66 1915213.97 1746185.06  8.83%     -    0s\n",
      "     0     0 1746189.15    0   66 1915213.97 1746189.15  8.83%     -    0s\n",
      "     0     0 1762878.04    0   65 1915213.97 1762878.04  7.95%     -    0s\n",
      "     0     0 1767627.26    0   71 1915213.97 1767627.26  7.71%     -    0s\n",
      "     0     0 1768305.90    0   75 1915213.97 1768305.90  7.67%     -    0s\n",
      "     0     0 1768718.45    0   76 1915213.97 1768718.45  7.65%     -    0s\n",
      "     0     0 1768785.00    0   76 1915213.97 1768785.00  7.65%     -    0s\n",
      "     0     0 1777219.36    0   71 1915213.97 1777219.36  7.21%     -    1s\n",
      "     0     0 1779475.59    0   71 1915213.97 1779475.59  7.09%     -    1s\n",
      "     0     0 1780499.45    0   79 1915213.97 1780499.45  7.03%     -    1s\n",
      "     0     0 1781459.59    0   81 1915213.97 1781459.59  6.98%     -    1s\n",
      "     0     0 1781493.06    0   80 1915213.97 1781493.06  6.98%     -    1s\n",
      "     0     0 1787656.70    0   69 1915213.97 1787656.70  6.66%     -    1s\n",
      "     0     0 1789204.21    0   63 1915213.97 1789204.21  6.58%     -    1s\n",
      "     0     0 1789579.90    0   64 1915213.97 1789579.90  6.56%     -    1s\n",
      "     0     0 1789624.95    0   66 1915213.97 1789624.95  6.56%     -    1s\n",
      "     0     0 1792765.20    0   61 1915213.97 1792765.20  6.39%     -    1s\n",
      "     0     0 1794072.41    0   60 1915213.97 1794072.41  6.33%     -    1s\n",
      "     0     0 1794072.41    0   60 1915213.97 1794072.41  6.33%     -    1s\n",
      "     0     0 1794540.70    0   64 1915213.97 1794540.70  6.30%     -    1s\n",
      "     0     0 1796150.88    0   64 1915213.97 1796150.88  6.22%     -    1s\n",
      "     0     2 1796691.41    0   64 1915213.97 1796691.41  6.19%     -    1s\n",
      "H    8    16                    1895262.2958 1802864.85  4.88%  57.4    1s\n",
      "H  112    91                    1884384.3672 1819358.24  3.45%  33.7    2s\n",
      "H  129   103                    1884283.3122 1819358.24  3.45%  31.6    2s\n",
      "H  130   103                    1882613.1669 1819358.24  3.36%  31.4    2s\n",
      "H  135   117                    1875367.5709 1819358.24  2.99%  31.1    2s\n",
      "*  155   117              19    1873101.9244 1819358.24  2.87%  28.5    2s\n",
      "*  167   118              23    1868092.0369 1819358.24  2.61%  27.5    2s\n",
      "*  189   115              25    1865384.5034 1819358.24  2.47%  26.1    2s\n",
      "\n",
      "Cutting planes:\n",
      "  Implied bound: 240\n",
      "  MIR: 114\n",
      "  Flow cover: 48\n",
      "  Flow path: 40\n",
      "  Network: 4\n",
      "  Relax-and-lift: 12\n",
      "\n",
      "Explored 467 nodes (12011 simplex iterations) in 2.65 seconds (2.50 work units)\n",
      "Thread count was 8 (of 8 available processors)\n",
      "\n",
      "Solution count 10: 1.86538e+06 1.86809e+06 1.8731e+06 ... 1.9933e+06\n",
      "\n",
      "Optimal solution found (tolerance 1.00e-04)\n",
      "Best objective 1.865384503441e+06, best bound 1.865384503441e+06, gap 0.0000%\n",
      "\n",
      "User-callback calls 1726, time in user-callback 0.00 sec\n"
     ]
    }
   ],
   "source": [
    "optimize!(model_combined)"
   ]
  },
  {
   "cell_type": "code",
   "execution_count": 21,
   "id": "d1182783",
   "metadata": {},
   "outputs": [
    {
     "name": "stdout",
     "output_type": "stream",
     "text": [
      "Landfills built at indices: [2, 3, 14, 16, 17, 21, 23, 24, 28, 30]\n",
      "Transfer stations built at indices: [1, 4, 6, 11, 12, 30, 32, 39, 45, 46, 48, 57, 74, 77, 82]\n"
     ]
    }
   ],
   "source": [
    "# Extract variable values\n",
    "x_vals = value.(x)\n",
    "z_vals = value.(z)\n",
    "\n",
    "# Landfills that are built\n",
    "built_landfills = [j for j in 1:m_all if x_vals[j] > 0.5]\n",
    "println(\"Landfills built at indices: \", built_landfills)\n",
    "\n",
    "# Transfer stations that are built\n",
    "built_stations = [k for k in 1:s_all if z_vals[k] > 0.5]\n",
    "println(\"Transfer stations built at indices: \", built_stations)"
   ]
  },
  {
   "cell_type": "code",
   "execution_count": 22,
   "id": "78bb73b9",
   "metadata": {},
   "outputs": [
    {
     "name": "stdout",
     "output_type": "stream",
     "text": [
      "Distance traveled directly from centers to landfills (miles-tons): 1.1896914177799309e6\n",
      "Distance traveled from centers to transfer stations (miles-tons): 232427.85365812026\n",
      "Distance traveled from transfer stations to landfills (miles-tons): 586530.464006059\n",
      "Total distance traveled by waste (miles-tons): 2.00864973544411e6\n"
     ]
    }
   ],
   "source": [
    "# Extract flow variables\n",
    "y_vals = value.(y)\n",
    "w_vals = value.(w)\n",
    "t_vals = value.(t)\n",
    "\n",
    "# Calculate distances\n",
    "distance_direct = sum(y_vals[i,j] * d_center_landfill[i,j] for i in 1:n_all, j in built_landfills)\n",
    "distance_to_stations = sum(w_vals[i,k] * d_center_station[i,k] for i in 1:n_all, k in built_stations)\n",
    "distance_from_stations = sum(t_vals[k,j] * d_station_landfill[k,j] for k in built_stations, j in built_landfills)\n",
    "\n",
    "total_distance = distance_direct + distance_to_stations + distance_from_stations\n",
    "\n",
    "println(\"Distance traveled directly from centers to landfills (miles-tons): \", distance_direct)\n",
    "println(\"Distance traveled from centers to transfer stations (miles-tons): \", distance_to_stations)\n",
    "println(\"Distance traveled from transfer stations to landfills (miles-tons): \", distance_from_stations)\n",
    "println(\"Total distance traveled by waste (miles-tons): \", total_distance)"
   ]
  },
  {
   "cell_type": "code",
   "execution_count": 23,
   "id": "d2ee0306",
   "metadata": {},
   "outputs": [
    {
     "name": "stdout",
     "output_type": "stream",
     "text": [
      "Transportation cost directly from centers to landfills:$1.1896914177799309e6\n",
      "Transportation cost from centers to transfer stations: $232427.85365812026\n",
      "Transportation cost from transfer stations to landfills: $293265.2320030295\n",
      "Total transportation cost: $1.7153845034410805e6\n"
     ]
    }
   ],
   "source": [
    "# Calculate transportation costs\n",
    "cost_direct = distance_direct * 1.0        # $1 per mile-ton\n",
    "cost_to_stations = distance_to_stations * 1.0  # $1 per mile-ton\n",
    "cost_from_stations = distance_from_stations * 0.5  # $0.5 per mile-ton\n",
    "\n",
    "total_transportation_cost = cost_direct + cost_to_stations + cost_from_stations\n",
    "\n",
    "println(\"Transportation cost directly from centers to landfills:\\$\", cost_direct)\n",
    "println(\"Transportation cost from centers to transfer stations: \\$\", cost_to_stations)\n",
    "println(\"Transportation cost from transfer stations to landfills: \\$\", cost_from_stations)\n",
    "println(\"Total transportation cost: \\$\", total_transportation_cost)"
   ]
  },
  {
   "cell_type": "code",
   "execution_count": 24,
   "id": "63c189aa",
   "metadata": {},
   "outputs": [
    {
     "name": "stdout",
     "output_type": "stream",
     "text": [
      "Operating cost of transfer stations: $150000.0\n",
      "Total daily cost: $1.8653845034410805e6\n"
     ]
    }
   ],
   "source": [
    "# Calculate operating costs of transfer stations\n",
    "operating_cost = sum(10000 * z_vals[k] for k in built_stations)\n",
    "\n",
    "# Total daily cost\n",
    "total_daily_cost = total_transportation_cost + operating_cost\n",
    "\n",
    "println(\"Operating cost of transfer stations: \\$\", operating_cost)\n",
    "println(\"Total daily cost: \\$\", total_daily_cost)"
   ]
  },
  {
   "cell_type": "markdown",
   "id": "8747d7f6",
   "metadata": {},
   "source": [
    "### Recommendation:\n",
    "\n",
    "Based on the analysis, I recommend using the **combined model** for managing waste in both Region 1 and Region 2. The combined strategy results in a **lower total transportation cost** (\\$1,715,384) and **smaller total distance traveled** (2,008,649 miles-tons) compared to handling the regions separately, where the total transportation cost is \\$1,810,403 and the distance traveled is 2,123,134 miles-tons. Additionally, the **total daily cost** for the combined model is **\\$1,865,384**, which is lower than the total cost of managing the regions separately (\\$1,960,403). This ensures more efficient use of resources, reduced logistical complexity, and improved overall operational efficiency."
   ]
  },
  {
   "cell_type": "markdown",
   "id": "6fe7c386",
   "metadata": {},
   "source": []
  }
 ],
 "metadata": {
  "kernelspec": {
   "display_name": "Julia 1.10.4",
   "language": "julia",
   "name": "julia-1.10"
  },
  "language_info": {
   "file_extension": ".jl",
   "mimetype": "application/julia",
   "name": "julia",
   "version": "1.10.4"
  }
 },
 "nbformat": 4,
 "nbformat_minor": 5
}
